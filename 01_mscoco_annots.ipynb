{
 "cells": [
  {
   "cell_type": "markdown",
   "id": "e93d0bec",
   "metadata": {},
   "source": [
    "### Licensing terms and copyright\n",
    "\n",
    "This code builds on the Microsoft COCO Toolbox API version 2.0 for which data, paper, and tutorials are available at:  http://mscoco.org/. The MS COCO Toolbox was written by Piotr Dollar and Tsung-Yi Lin and licensed under the Simplified BSD license [see bsd.txt]\n",
    "\n",
    "    Copyright (C) 2014 Piotr Dollar and Tsung-Yi Lin, Micosoft Corp.\n",
    "\n",
    "The code contained in this project is protected by the terms and conditions of the\n",
    "GNU_GPL-v3 copyleft license.\n",
    "\n",
    "    Copyright (C) 2021 Cedric Bhihe and Barcelona Supercomputing Center (BSC)\n",
    "\n",
    "This code is free software: you can redistribute it and/or modify it under\n",
    "the terms of the GNU General Public License as published by the Free Software\n",
    "Foundation, either version 3 of the License, or any later version.\n",
    "\n",
    "This program is distributed in the hope that it will be useful, but WITHOUT\n",
    "ANY WARRANTY; without even the implied warranty of MERCHANTABILITY or\n",
    "FITNESS FOR A PARTICULAR PURPOSE.  See the GNU General Public License for\n",
    "more details.\n",
    "\n",
    "You should have received a copy of the GNU General Public License along with\n",
    "this program.  If not, see <https://www.gnu.org/licenses/>, or consult the\n",
    "License.md file in this repo.\n",
    "\n",
    "To contact the author(s), use cedric dot bhihe at gmail dot com."
   ]
  },
  {
   "cell_type": "markdown",
   "id": "9e8cb49e",
   "metadata": {},
   "source": [
    "### Problem statement\n",
    "\n",
    "This notebook does 1 things:\n",
    "\n",
    "- it evaluates the average caption length for the MS COCO dataset.<BR>\n",
    "Caption length is defined as the number of tokens making up the textual summary, barring punctuation."
   ]
  },
  {
   "cell_type": "markdown",
   "id": "22691192",
   "metadata": {},
   "source": [
    "### Installation requirements\n",
    "\n",
    "**-- for a Linux Python 3.9.0 virtual environment --**\n",
    "\n",
    "- Clone the COCO API ressources from the Github.com repo\n",
    "\n",
    "```\n",
    "$ pyenv install 3.9.0\n",
    "$ mkdir -P <my_directory>\n",
    "$ cd <my_directory>\n",
    "$ pyenv local 3.9.0\n",
    "$ git clone https://github.com/cocodataset/cocoapi\n",
    "$ cd cocoapi/PythonAPI\n",
    "$ sudo make install\n",
    "# Below is optional, because already included in Makefile when `sudo make install`\n",
    "$ sudo /usr/bin/python setup.py install \n",
    "```\n",
    "- Install the following packages and their dependencies:\n",
    "\n",
    "```\n",
    "$ python -m pip install <<<- 'EOF'\n",
    "    pandas==0.24\n",
    "    seaborn==0.11.2\n",
    "    matplotlib==3.3.3\n",
    "    setuptools==51.0.0\n",
    "    Cython==0.29.22\n",
    "    pycocotools==2.0.3\n",
    "    decorator==4.4.2\n",
    "EOF\n",
    "```\n",
    "`pycocotools` requires `matplotlib`, `setuptools` and `Cython`.\n",
    "Make sure they are installed in the same site-packages locations. \n",
    "For that you can verify where `pycotools` is installed by issuing:\n",
    "\n",
    "```\n",
    "$ python -m pip show pycocotools\n",
    "```\n",
    "\n",
    "or directly:\n",
    "\n",
    "```\n",
    "$ python -c \"import site; print(site.getsitepackages()[0])\"\n",
    "\n",
    "```\n",
    "\n",
    "- Go to https://cocodataset.org/#download and download the **\"2017 Train/Val annotations [241MB]\"** archive. The split train/val is now 118K/5K. \n",
    "\n",
    "- Compile jupyter kernel with ipykernel under name \"mscocoapi\" and label \"Python3.9.0 (COCO-API)\"\n",
    "\n",
    "```\n",
    "$ ipython kernel install --user --name mscocoapi --display-name \"Python3.9.0 (COCO-API)\"\n",
    "```\n",
    "- In the Jupyter notebook, do:\n",
    "```\n",
    "from pycocotools.coco import COCO\n",
    "```"
   ]
  },
  {
   "cell_type": "code",
   "execution_count": 2,
   "id": "6b64a985",
   "metadata": {},
   "outputs": [],
   "source": [
    "import sys, string, time, re\n",
    "import multiprocessing as mp\n",
    "from typing import Union, Any, List, Optional, cast\n",
    "\n",
    "import matplotlib.pyplot as plt\n",
    "\n",
    "import pandas as pd\n",
    "import numpy as np\n",
    "import nltk\n",
    "from nltk.corpus import stopwords\n",
    "from pycocotools.coco import COCO"
   ]
  },
  {
   "cell_type": "code",
   "execution_count": 3,
   "id": "883552cd",
   "metadata": {},
   "outputs": [
    {
     "name": "stdout",
     "output_type": "stream",
     "text": [
      "/home/ckb/.pyenv/versions/3.9.0/bin/python\n",
      "(3, 9, 0)\n",
      "UTF-8\n"
     ]
    }
   ],
   "source": [
    "## Check that the virtual environment Python version is correct.\n",
    "#  (It will be if the correct Python kernel was chosen for this notebook.)\n",
    "\n",
    "print(sys.executable)        # [Current iPython kernel's path] '/home/USER/.pyenv/versions/3.7.0/bin/python'\n",
    "print(PYTHON_VERSION := sys.version_info[0:3]) # [Python version] 3\n",
    "print(sys.stdout.encoding)  \n",
    "#print(locale.getpreferredencoding())`"
   ]
  },
  {
   "cell_type": "code",
   "execution_count": 4,
   "id": "c2a77e73",
   "metadata": {},
   "outputs": [],
   "source": [
    "data_dir = \"/home/ckb/Documents/Work/Projects/Sgoab/Data/Annot_txt/Coco_en_2017/\""
   ]
  },
  {
   "cell_type": "code",
   "execution_count": 5,
   "id": "0771f4f6",
   "metadata": {},
   "outputs": [
    {
     "name": "stdout",
     "output_type": "stream",
     "text": [
      "loading annotations into memory...\n",
      "Done (t=12.12s)\n",
      "creating index...\n",
      "index created!\n",
      "loading annotations into memory...\n",
      "Done (t=0.78s)\n",
      "creating index...\n",
      "index created!\n"
     ]
    }
   ],
   "source": [
    "# Download training set and not the validation set for annotations\n",
    "coco = COCO(data_dir + 'instances_train2017.json') \n",
    "caps = COCO(data_dir + 'captions_train2017.json')"
   ]
  },
  {
   "cell_type": "code",
   "execution_count": 7,
   "id": "75dba830",
   "metadata": {},
   "outputs": [
    {
     "name": "stdout",
     "output_type": "stream",
     "text": [
      "Available categories: \n",
      "0: person, 1: bicycle, 2: car, 3: motorcycle, 4: airplane, 5: bus, 6: train, 7: truck, 8: boat, 9: traffic light, 10: fire hydrant, 11: stop sign, 12: parking meter, 13: bench, 14: bird, 15: cat, 16: dog, 17: horse, 18: sheep, 19: cow, 20: elephant, 21: bear, 22: zebra, 23: giraffe, 24: backpack, 25: umbrella, 26: handbag, 27: tie, 28: suitcase, 29: frisbee, 30: skis, 31: snowboard, 32: sports ball, 33: kite, 34: baseball bat, 35: baseball glove, 36: skateboard, 37: surfboard, 38: tennis racket, 39: bottle, 40: wine glass, 41: cup, 42: fork, 43: knife, 44: spoon, 45: bowl, 46: banana, 47: apple, 48: sandwich, 49: orange, 50: broccoli, 51: carrot, 52: hot dog, 53: pizza, 54: donut, 55: cake, 56: chair, 57: couch, 58: potted plant, 59: bed, 60: dining table, 61: toilet, 62: tv, 63: laptop, 64: mouse, 65: remote, 66: keyboard, 67: cell phone, 68: microwave, 69: oven, 70: toaster, 71: sink, 72: refrigerator, 73: book, 74: clock, 75: vase, 76: scissors, 77: teddy bear, 78: hair drier, 79: toothbrush, "
     ]
    }
   ],
   "source": [
    "categories = coco.loadCats(coco.getCatIds())\n",
    "names = [cat['name'] for cat in categories] \n",
    "\n",
    "print(\"Available categories: \")\n",
    "for index, n in enumerate(names):\n",
    "    print(\"{}: {}\".format(index, n), end=', ')"
   ]
  },
  {
   "cell_type": "code",
   "execution_count": 8,
   "id": "c47f70e0",
   "metadata": {},
   "outputs": [],
   "source": [
    "category_ids = coco.getCatIds(catNms=names)\n",
    "image_ids = coco.getImgIds(catIds=category_ids)\n",
    "images = coco.loadImgs(image_ids)\n",
    "annIds = caps.getAnnIds(imgIds=image_ids)\n",
    "annotations = caps.loadAnns(annIds)"
   ]
  },
  {
   "cell_type": "code",
   "execution_count": 24,
   "id": "162cc93e",
   "metadata": {},
   "outputs": [
    {
     "name": "stdout",
     "output_type": "stream",
     "text": [
      "[[{'image_id': 203564, 'id': 37, 'caption': 'A bicycle replica with a clock as the front wheel.'}, {'image_id': 322141, 'id': 49, 'caption': 'A room with blue walls and a white sink and door.'}, {'image_id': 16977, 'id': 89, 'caption': 'A car that seems to be parked illegally behind a legally parked car'}, {'image_id': 106140, 'id': 98, 'caption': 'A large passenger airplane flying through the air.'}, {'image_id': 106140, 'id': 101, 'caption': 'There is a GOL plane taking off in a partly cloudy sky.'}], [{'image_id': 322141, 'id': 109, 'caption': 'Blue and white color scheme in a small bathroom.'}, {'image_id': 322141, 'id': 121, 'caption': 'This is a blue and white bathroom with a wall sink and a lifesaver on the wall.'}, {'image_id': 322141, 'id': 163, 'caption': 'A blue boat themed bathroom with a life preserver on the wall'}, {'image_id': 203564, 'id': 181, 'caption': 'The bike has a clock as a tire.'}, {'image_id': 16977, 'id': 185, 'caption': 'two cars parked on the sidewalk on the street'}], [{'image_id': 106140, 'id': 221, 'caption': 'An airplane that is, either, landing or just taking off.'}, {'image_id': 322141, 'id': 250, 'caption': 'A bathroom with walls that are painted baby blue.'}, {'image_id': 571635, 'id': 342, 'caption': 'A bathroom with a toilet, sink, and shower.'}, {'image_id': 301837, 'id': 391, 'caption': 'A long empty, minimal modern skylit home kitchen.'}, {'image_id': 315702, 'id': 437, 'caption': 'A bathroom sink with toiletries on the counter.'}], [{'image_id': 315702, 'id': 452, 'caption': 'A bathroom sink and various personal hygiene items.'}, {'image_id': 189634, 'id': 455, 'caption': 'This is an open box containing four cucumbers.'}, {'image_id': 472598, 'id': 456, 'caption': 'An old-fashioned green station wagon is parked on a shady driveway.'}, {'image_id': 162113, 'id': 464, 'caption': 'A gas stove next to a stainless steel kitchen sink and countertop.'}, {'image_id': 203564, 'id': 478, 'caption': 'A black metal bicycle with a clock inside the front wheel.'}], [{'image_id': 126657, 'id': 565, 'caption': 'Several motorcycles riding down the road in formation.'}, {'image_id': 285421, 'id': 589, 'caption': 'A black cat is inside a white toilet.'}, {'image_id': 16977, 'id': 626, 'caption': 'City street with parked cars and a bench.'}, {'image_id': 71988, 'id': 699, 'caption': 'A man in a wheelchair and another sitting on a bench that is overlooking the water.'}, {'image_id': 193622, 'id': 701, 'caption': 'A man sits with a traditionally decorated cow'}], [{'image_id': 459912, 'id': 748, 'caption': 'Rows of motor bikes and helmets in a city'}, {'image_id': 548498, 'id': 754, 'caption': 'A cute kitten is sitting in a dish on a table.'}, {'image_id': 315702, 'id': 791, 'caption': 'A messy bathroom countertop perched atop black cabinetry.'}, {'image_id': 52087, 'id': 827, 'caption': 'A man getting a drink from a water fountain that is a toilet.'}, {'image_id': 189634, 'id': 833, 'caption': 'An open food container box with four unknown food items.'}], [{'image_id': 472598, 'id': 834, 'caption': 'An old teal colored car parked on the street.'}, {'image_id': 119964, 'id': 891, 'caption': 'A person holding a skateboard overlooks a dead field of crops.'}, {'image_id': 126657, 'id': 931, 'caption': 'A group of motorcycle riders driving past buildings.'}, {'image_id': 230610, 'id': 935, 'caption': 'A bathroom with a sink and shower curtain with a map print.'}, {'image_id': 226419, 'id': 939, 'caption': 'A random plane in the sky flying alone'}], [{'image_id': 226419, 'id': 945, 'caption': 'An airplane flying high in the blue sky. '}, {'image_id': 218026, 'id': 961, 'caption': 'A brown and black horse in the middle of the city eating grass.'}, {'image_id': 352538, 'id': 974, 'caption': 'A brown purse is sitting on a green bench.'}, {'image_id': 202913, 'id': 1034, 'caption': 'Half of a white cake with coconuts on top.'}, {'image_id': 202658, 'id': 1037, 'caption': 'An old toilet with a hello kitty cover top. '}], [{'image_id': 79472, 'id': 1104, 'caption': 'Office space with office equipment on desk top.'}, {'image_id': 346071, 'id': 1113, 'caption': \"Two husky's hanging out of the car windows.\"}, {'image_id': 6672, 'id': 1132, 'caption': 'The back door with a window in the kitchen.'}, {'image_id': 419074, 'id': 1137, 'caption': 'Jet liner flying off into the distance on an overcast day'}, {'image_id': 382406, 'id': 1221, 'caption': 'A woman is walking a dog in the city.'}], [{'image_id': 16977, 'id': 1229, 'caption': 'Cars try to maneuver into parking spaces along a densely packed city street. '}, {'image_id': 346071, 'id': 1248, 'caption': 'Dogs stick their heads out of car windows'}, {'image_id': 119964, 'id': 1302, 'caption': 'A person sits on a patch of grass observing the scenery.'}, {'image_id': 175948, 'id': 1327, 'caption': 'A tiny bathroom with only a toilet and a shelf.'}, {'image_id': 573223, 'id': 1373, 'caption': 'A little girl in a public bathroom for kids.'}], [{'image_id': 52087, 'id': 1400, 'caption': 'A boy drinking water from a toilet water fountain.'}, {'image_id': 402514, 'id': 1436, 'caption': 'A picture of a man playing a violin in a kitchen.'}, {'image_id': 230610, 'id': 1484, 'caption': 'A small and crowded bathroom with little furnishing '}, {'image_id': 407286, 'id': 1494, 'caption': \"A trio of dogs sitting in their owner's lap in a red convertible.\"}, {'image_id': 82673, 'id': 1562, 'caption': 'A small car is parked in front of a scooter'}], [{'image_id': 382406, 'id': 1620, 'caption': 'A woman and her dog walking down a sidewalk next to a fence with some flowers. '}, {'image_id': 141172, 'id': 1637, 'caption': 'A door with a sticker of a cat door on it'}, {'image_id': 104326, 'id': 1693, 'caption': 'A pinewood and green modern themed kitchen area.'}, {'image_id': 402514, 'id': 1706, 'caption': 'A man is playing violin in his kitchen'}, {'image_id': 581177, 'id': 1766, 'caption': 'A kitchen is shown with wooden cabinets and a wooden celling.'}], [{'image_id': 267802, 'id': 1774, 'caption': 'A group of people riding mopeds in a busy street. '}, {'image_id': 208408, 'id': 1828, 'caption': 'A person walking in the rain on the sidewalk. '}, {'image_id': 581177, 'id': 1865, 'caption': 'A recently remodeled kitchen with marble and wooden furnishings.'}, {'image_id': 560591, 'id': 1886, 'caption': 'a modern flush toilet in a bathroom with tile. '}, {'image_id': 189634, 'id': 1907, 'caption': 'A small box filled with four green vegetables. '}], [{'image_id': 472598, 'id': 1908, 'caption': 'A classic car sitting beside the road with a surfboard on top. '}, {'image_id': 507362, 'id': 1933, 'caption': 'Fog is in the air at an intersection with several traffic lights.'}, {'image_id': 407286, 'id': 2028, 'caption': \"Three little dogs looking out a car window while sitting on a woman's lap. \"}, {'image_id': 52087, 'id': 2045, 'caption': 'A young man drinking from a water fountain in the shape of a toilet.'}, {'image_id': 57429, 'id': 2049, 'caption': 'An airplane with its landing wheels out landing. '}], [{'image_id': 153184, 'id': 2076, 'caption': 'Little birds sitting on the shoulder of a giraffe. '}, {'image_id': 382406, 'id': 2091, 'caption': 'A woman walking her dog on the sidewalk.'}, {'image_id': 571970, 'id': 2099, 'caption': 'a man with a bike at a marina'}, {'image_id': 153184, 'id': 2121, 'caption': \"The top of a giraffe's head has birds on it.\"}, {'image_id': 57429, 'id': 2139, 'caption': 'A plane that is taking off at an airport'}], [{'image_id': 133680, 'id': 2152, 'caption': 'A man is sitting on a bench next to a bike.'}, {'image_id': 139011, 'id': 2154, 'caption': 'People are waiting for the bus near a bus stop.'}, {'image_id': 6672, 'id': 2155, 'caption': 'The kitchen has a white door with a window.'}, {'image_id': 104326, 'id': 2167, 'caption': 'A kitchen and dining room area with a large window.'}, {'image_id': 505386, 'id': 2192, 'caption': 'four urinals in a public restroom with a window'}], [{'image_id': 106140, 'id': 2219, 'caption': 'An red and white airplane is in the cloudy sky.'}, {'image_id': 285421, 'id': 2242, 'caption': 'A black cat drinking water from a toilet'}, {'image_id': 581177, 'id': 2258, 'caption': 'Well kept kitchen with marble counter tops and stainless steel fridge'}, {'image_id': 79472, 'id': 2376, 'caption': 'A hope office setup of computers and printers.'}, {'image_id': 208408, 'id': 2383, 'caption': 'A person walking through the rain with an umbrella.'}], [{'image_id': 107990, 'id': 2405, 'caption': 'A small child climbs atop a large motorcycle'}, {'image_id': 527510, 'id': 2450, 'caption': 'A large U.S Air Force plain sits on an asphalt ramp.'}, {'image_id': 5247, 'id': 2473, 'caption': 'A black and white photo of an older man skiing.'}, {'image_id': 505386, 'id': 2576, 'caption': 'A bathroom with four urinals on the wall.'}, {'image_id': 301837, 'id': 2599, 'caption': 'A picture of a modern looking kitchen area\\n'}], [{'image_id': 79472, 'id': 2607, 'caption': 'a home office with laptop, printer, scanner, and extra monitor'}, {'image_id': 5247, 'id': 2620, 'caption': 'Two people on the snow for cross country skiing.'}, {'image_id': 107960, 'id': 2655, 'caption': 'Riding a motorcycle down a street that has no one else on it.'}, {'image_id': 162113, 'id': 2666, 'caption': 'A kitchen stove, sink, and counter with stuff on it.'}, {'image_id': 133680, 'id': 2686, 'caption': 'A man is sitting on a bench next to a bicycle.'}], [{'image_id': 139011, 'id': 2688, 'caption': 'A crowd of people are waiting to get on a red bus.'}, {'image_id': 285421, 'id': 2761, 'caption': 'A cat drinking water from a toilet in a bathroom.'}, {'image_id': 507362, 'id': 2830, 'caption': 'An intersection during a cold and foggy night.'}, {'image_id': 208408, 'id': 2884, 'caption': 'A person walking in the rain while holding an umbrella.'}, {'image_id': 407286, 'id': 2919, 'caption': 'A woman driver has three dogs in the seat with her.'}], [{'image_id': 57429, 'id': 2946, 'caption': 'A man takes a picture of an airplane taking off.'}, {'image_id': 410627, 'id': 2961, 'caption': 'The young man is stirring his pot of food with a wooden spoon.'}, {'image_id': 232223, 'id': 3001, 'caption': 'A fighter jet is flying at a fast speed.'}, {'image_id': 22793, 'id': 3043, 'caption': 'A public bathroom with a bunch of urinals.'}, {'image_id': 436456, 'id': 3106, 'caption': 'The airplane is on the runway with two young men standing by.'}], [{'image_id': 581177, 'id': 3125, 'caption': 'A beautiful new kitchen with natural wood cabinets.'}, {'image_id': 368402, 'id': 3192, 'caption': 'The woman in the kitchen is holding a huge pan.'}, {'image_id': 107990, 'id': 3200, 'caption': 'A young boy riding a motorcycle next to a silver car.'}, {'image_id': 135161, 'id': 3205, 'caption': 'A toilet sits next to a window and in front of a shower.'}, {'image_id': 382406, 'id': 3237, 'caption': 'A woman walks her dog along a city street.'}], [{'image_id': 107990, 'id': 3302, 'caption': 'A little baby is sitting on a huge motorcycle.'}, {'image_id': 505386, 'id': 3362, 'caption': 'An old bathroom with a row of urinals.'}, {'image_id': 581177, 'id': 3365, 'caption': 'A neat, wood filled kitchen is photographed as if for a real estate ad.'}, {'image_id': 407286, 'id': 3417, 'caption': 'A woman and her three dogs in a car.'}, {'image_id': 230610, 'id': 3446, 'caption': 'A small bathroom with a shower curtain with the NYC Subway map on it. '}], [{'image_id': 230610, 'id': 3455, 'caption': 'A bathroom with a map as a shower curtain. '}, {'image_id': 16977, 'id': 3506, 'caption': 'A couple of cars parked in a busy street sidewalk.'}, {'image_id': 106140, 'id': 3560, 'caption': 'A passenger plane taking off into the sky. '}, {'image_id': 6672, 'id': 3577, 'caption': 'A kitchen door next to a kitchen sing and counter top.'}, {'image_id': 178761, 'id': 3586, 'caption': 'A dog and a goat with their noses touching at fence.'}], [{'image_id': 301837, 'id': 3694, 'caption': 'A narrow kitchen ending with a chrome refrigerator.'}, {'image_id': 107990, 'id': 3710, 'caption': 'A little boy sitting alone on a motorcycle.'}, {'image_id': 573223, 'id': 3728, 'caption': 'A girl standing next to a toilet in a bathroom.'}, {'image_id': 491000, 'id': 3753, 'caption': 'Pedestrians walking down a sidewalk next to a small street.'}, {'image_id': 368402, 'id': 3759, 'caption': 'A chef carrying a large pan inside of a kitchen.'}]]\n"
     ]
    }
   ],
   "source": [
    "# Split the annotations every 5 captions since there are 5 captions for each image\n",
    "# Result: list of lists where embedded lists contains five dictionaries each, one \n",
    "# for each image_id caption.\n",
    "#caps_alt = [annotations[x:x + 5] for x in range(0, len(annotations), 5)]\n",
    "#print(caps_alt[:25])"
   ]
  },
  {
   "cell_type": "code",
   "execution_count": 25,
   "id": "150b7b6a",
   "metadata": {},
   "outputs": [],
   "source": [
    "# Lookup https://github.com/cocodataset/cocoapi/issues/120#issuecomment-552489530\n",
    "# to explore datasets in more details"
   ]
  },
  {
   "cell_type": "code",
   "execution_count": 9,
   "id": "ba010eea",
   "metadata": {},
   "outputs": [
    {
     "data": {
      "text/plain": [
       "591753"
      ]
     },
     "execution_count": 9,
     "metadata": {},
     "output_type": "execute_result"
    }
   ],
   "source": [
    "caps = [x['caption'].lower() for x in annotations]   # variable 'caps' == \"captions\"\n",
    "#print(caps[.25])\n",
    "len(caps)"
   ]
  },
  {
   "cell_type": "code",
   "execution_count": 10,
   "id": "a7bcb518",
   "metadata": {},
   "outputs": [
    {
     "name": "stdout",
     "output_type": "stream",
     "text": [
      "591753\n",
      "\n",
      "['a bicycle replica with a clock as the front wheel', 'a room with blue walls and a white sink and door', 'a car that seems to be parked illegally behind a legally parked car', 'a large passenger airplane flying through the air', 'there is a gol plane taking off in a partly cloudy sky']\n"
     ]
    },
    {
     "data": {
      "text/plain": [
       "1.634366750717163"
      ]
     },
     "execution_count": 10,
     "metadata": {},
     "output_type": "execute_result"
    }
   ],
   "source": [
    "# Suppress punctuation\n",
    "start = time.time()\n",
    "\n",
    "caps_nopunc = [s.translate(s.maketrans('','',string.punctuation)) for s in caps]\n",
    "print(len(caps_nopunc))\n",
    "print('\\n{}'.format(caps_nopunc[:5]))\n",
    "time.time() - start"
   ]
  },
  {
   "cell_type": "code",
   "execution_count": 11,
   "id": "7b78b04a",
   "metadata": {},
   "outputs": [
    {
     "name": "stdout",
     "output_type": "stream",
     "text": [
      "591753\n",
      "\n",
      "['a bicycle replica with a clock as the front wheel', 'a room with blue walls and a white sink and door', 'a car that seems to be parked illegally behind a legally parked car', 'a large passenger airplane flying through the air', 'there is a gol plane taking off in a partly cloudy sky']\n"
     ]
    },
    {
     "data": {
      "text/plain": [
       "0.8534038066864014"
      ]
     },
     "execution_count": 11,
     "metadata": {},
     "output_type": "execute_result"
    }
   ],
   "source": [
    "# Suppress punctuation\n",
    "start = time.time()\n",
    "caps_nopunc = [re.sub(r'[^\\w\\s]','',s) for s in caps]\n",
    "print(len(caps_nopunc))\n",
    "print('\\n{}'.format(caps_nopunc[:5]))\n",
    "time.time() - start"
   ]
  },
  {
   "cell_type": "code",
   "execution_count": 12,
   "id": "4994d8c9",
   "metadata": {},
   "outputs": [
    {
     "name": "stdout",
     "output_type": "stream",
     "text": [
      "591753\n",
      "\n",
      "[10, 11, 13, 8, 12]\n"
     ]
    },
    {
     "data": {
      "text/plain": [
       "0.2819061279296875"
      ]
     },
     "execution_count": 12,
     "metadata": {},
     "output_type": "execute_result"
    }
   ],
   "source": [
    "# split sentences and count words\n",
    "start = time.time()\n",
    "caps_nopunc_wc = [len(x.split()) for x in caps_nopunc]\n",
    "print(len(caps_nopunc_wc))\n",
    "print('\\n{}'.format(caps_nopunc_wc[:5]))\n",
    "time.time() - start"
   ]
  },
  {
   "cell_type": "code",
   "execution_count": 55,
   "id": "4ca15945",
   "metadata": {},
   "outputs": [
    {
     "name": "stdout",
     "output_type": "stream",
     "text": [
      "591753\n",
      "\n",
      "[10, 11, 13, 8, 12]\n"
     ]
    },
    {
     "data": {
      "text/plain": [
       "1.5986037254333496"
      ]
     },
     "execution_count": 55,
     "metadata": {},
     "output_type": "execute_result"
    }
   ],
   "source": [
    "# split sentences and count words\n",
    "start = time.time()\n",
    "caps_nopunc_wc = [len(re.findall(r'\\w+', x)) for x in caps_nopunc]\n",
    "print(len(caps_wc))\n",
    "print('\\n{}'.format(caps_nopunc_wc[:5]))\n",
    "time.time() - start"
   ]
  },
  {
   "cell_type": "code",
   "execution_count": 13,
   "id": "5fa98776",
   "metadata": {},
   "outputs": [
    {
     "name": "stdout",
     "output_type": "stream",
     "text": [
      "                                                caps  wc\n",
      "0  a bicycle replica with a clock as the front wheel  10\n",
      "1   a room with blue walls and a white sink and door  11\n",
      "2  a car that seems to be parked illegally behind...  13\n",
      "3  a large passenger airplane flying through the air   8\n",
      "4  there is a gol plane taking off in a partly cl...  12\n",
      "\n",
      "Median caption word count: 10\n",
      "\n",
      "                  wc\n",
      "count  591753.000000\n",
      "mean       10.454947\n",
      "std         2.392038\n",
      "min         5.000000\n",
      "25%         9.000000\n",
      "50%        10.000000\n",
      "75%        11.000000\n",
      "max        49.000000\n"
     ]
    },
    {
     "data": {
      "text/plain": [
       "Text(0, 0.5, '# of occurrences')"
      ]
     },
     "execution_count": 13,
     "metadata": {},
     "output_type": "execute_result"
    },
    {
     "data": {
      "image/png": "[encoded data removed]",
      "text/plain": [
       "<Figure size 432x288 with 1 Axes>"
      ]
     },
     "metadata": {
      "needs_background": "light"
     },
     "output_type": "display_data"
    }
   ],
   "source": [
    "# Create dictionary of series -> panda dataframe\n",
    "d = {'caps':pd.Series(caps_nopunc),'wc':pd.Series(caps_nopunc_wc)}\n",
    "df = pd.DataFrame(d)\n",
    "print(df[0:5])\n",
    "sorted_caps_nopunc_wc = sorted(caps_nopunc_wc)\n",
    "print('\\nMedian caption word count: {}\\n'.format(median_wc := sorted_caps_nopunc_wc[int(len(caps)/2)]))\n",
    "print(df.describe())\n",
    "plt.hist(df['wc'], bins=15, log=False, align='right', color='purple', edgecolor='black')\n",
    "plt.title('Word count distribution')\n",
    "plt.xlabel('Word count')\n",
    "plt.ylabel('# of occurrences')"
   ]
  },
  {
   "cell_type": "code",
   "execution_count": 14,
   "id": "46e2a518",
   "metadata": {},
   "outputs": [
    {
     "name": "stderr",
     "output_type": "stream",
     "text": [
      "[nltk_data] Downloading package stopwords to /var/data/nltk_data/...\n",
      "[nltk_data]   Unzipping corpora/stopwords.zip.\n"
     ]
    },
    {
     "data": {
      "text/plain": [
       "True"
      ]
     },
     "execution_count": 14,
     "metadata": {},
     "output_type": "execute_result"
    }
   ],
   "source": [
    "nltk.download('stopwords')"
   ]
  },
  {
   "cell_type": "code",
   "execution_count": 15,
   "id": "710c683f",
   "metadata": {},
   "outputs": [
    {
     "name": "stdout",
     "output_type": "stream",
     "text": [
      "Elapsed processing time (s): 494.0\n",
      "                                         caps_nopunc  nostop_wc\n",
      "0  a bicycle replica with a clock as the front wheel          5\n",
      "1   a room with blue walls and a white sink and door          6\n",
      "2  a car that seems to be parked illegally behind...          8\n",
      "3  a large passenger airplane flying through the air          5\n",
      "4  there is a gol plane taking off in a partly cl...          6\n",
      "\n",
      "Median captions' non-stop word count: 6\n",
      "\n",
      "           nostop_wc\n",
      "count  591753.000000\n",
      "mean        5.767810\n",
      "std         1.525536\n",
      "min         1.000000\n",
      "25%         5.000000\n",
      "50%         6.000000\n",
      "75%         7.000000\n",
      "max        31.000000\n"
     ]
    },
    {
     "data": {
      "text/plain": [
       "Text(0, 0.5, '# of occurrences')"
      ]
     },
     "execution_count": 15,
     "metadata": {},
     "output_type": "execute_result"
    },
    {
     "data": {
      "image/png": "[encoded data removed]",
      "text/plain": [
       "<Figure size 432x288 with 1 Axes>"
      ]
     },
     "metadata": {
      "needs_background": "light"
     },
     "output_type": "display_data"
    }
   ],
   "source": [
    "start = time.time()\n",
    "caps_tmp = [x.split() for x in caps_nopunc]\n",
    "caps_nopunc_nostop_wc = []\n",
    "for cap in caps_tmp:\n",
    "    caps_nopunc_nostop_wc.append(len([x for x in cap if not x in stopwords.words('english')]))\n",
    "\n",
    "print('Elapsed processing time (s): {}'.format(round(time.time() - start,0)))\n",
    "\n",
    "d = {'caps_nopunc':pd.Series(caps_nopunc),'nostop_wc':pd.Series(caps_nopunc_nostop_wc)}\n",
    "df = pd.DataFrame(d)\n",
    "print(df[0:5])\n",
    "\n",
    "sorted_caps_nopunc_nostop_wc = sorted(caps_nopunc_nostop_wc)  \n",
    "print('\\nMedian captions\\' non-stop word count: {}\\n'.format(sorted_caps_nopunc_nostop_wc[int(len(caps_nopunc_nostop_wc)/2)]))\n",
    "\n",
    "print(df.describe())\n",
    "\n",
    "plt.hist(df['nostop_wc'], log=False, align='right', color='purple', edgecolor='black')\n",
    "plt.title('Non-stop word count distribution')\n",
    "plt.xlabel('Non-stop word count')\n",
    "plt.ylabel('# of occurrences')"
   ]
  },
  {
   "cell_type": "code",
   "execution_count": 16,
   "id": "6dc76f62",
   "metadata": {},
   "outputs": [
    {
     "name": "stdout",
     "output_type": "stream",
     "text": [
      "Core count: 8\n",
      "\n",
      "Elapsed processing time (s): 145.0\n",
      "\n",
      "                                         caps_nopunc  nostop_wc\n",
      "0  a bicycle replica with a clock as the front wheel          5\n",
      "1   a room with blue walls and a white sink and door          6\n",
      "2  a car that seems to be parked illegally behind...          8\n",
      "3  a large passenger airplane flying through the air          5\n",
      "4  there is a gol plane taking off in a partly cl...          6\n",
      "\n",
      "Median captions' non-stop word count: 6\n",
      "\n",
      "           nostop_wc\n",
      "count  591753.000000\n",
      "mean        5.767810\n",
      "std         1.525536\n",
      "min         1.000000\n",
      "25%         5.000000\n",
      "50%         6.000000\n",
      "75%         7.000000\n",
      "max        31.000000\n"
     ]
    },
    {
     "data": {
      "text/plain": [
       "Text(0, 0.5, '# of occurrences')"
      ]
     },
     "execution_count": 16,
     "metadata": {},
     "output_type": "execute_result"
    },
    {
     "data": {
      "image/png": "[encoded data removed]",
      "text/plain": [
       "<Figure size 432x288 with 1 Axes>"
      ]
     },
     "metadata": {
      "needs_background": "light"
     },
     "output_type": "display_data"
    }
   ],
   "source": [
    "print('Core count: {}\\n'.format(cc := mp.cpu_count()))\n",
    "\n",
    "def len_caps_nostop(cap: str) -> int:\n",
    "    \"\"\"\n",
    "    Function 'len_cap_nostop' eliminates English stop words from a sentence\n",
    "    provided as input (sring).\n",
    "    It outputs a stop-word free sentence length (integer).\n",
    "    \"\"\"\n",
    "    return len([x for x in cap if not x in stopwords.words('english')])\n",
    "    \n",
    "if __name__ == \"__main__\":\n",
    "    start = time.time()\n",
    "    \n",
    "    caps_nopunc_nostop_wc = []\n",
    "    caps_tmp = [x.split() for x in caps_nopunc]\n",
    "    \n",
    "    with mp.Pool(processes=cc) as pool:\n",
    "        caps_nopunc_nostop_wc = pool.map(len_caps_nostop, caps_tmp)\n",
    "    \n",
    "print('Elapsed processing time (s): {}\\n'.format(round(time.time() - start,0)))\n",
    "\n",
    "d = {'caps_nopunc':pd.Series(caps_nopunc),'nostop_wc':pd.Series(caps_nopunc_nostop_wc)}\n",
    "df = pd.DataFrame(d)\n",
    "print(df[0:5])\n",
    "\n",
    "sorted_caps_nopunc_nostop_wc = sorted(caps_nopunc_nostop_wc)  \n",
    "print('\\nMedian captions\\' non-stop word count: {}\\n'.format(sorted_caps_nopunc_nostop_wc[int(len(caps_nopunc_nostop_wc)/2)]))\n",
    "\n",
    "print(df.describe())\n",
    "\n",
    "plt.hist(df['nostop_wc'], log=False, align='right', color='purple', edgecolor='black')\n",
    "plt.title('Non-stop word count distribution')\n",
    "plt.xlabel('Non-stop word count')\n",
    "plt.ylabel('# of occurrences')"
   ]
  }
 ],
 "metadata": {
  "kernelspec": {
   "display_name": "Python3.9.0 (COCO-API)",
   "language": "python",
   "name": "mscocoapi"
  },
  "language_info": {
   "codemirror_mode": {
    "name": "ipython",
    "version": 3
   },
   "file_extension": ".py",
   "mimetype": "text/x-python",
   "name": "python",
   "nbconvert_exporter": "python",
   "pygments_lexer": "ipython3",
   "version": "3.9.0"
  }
 },
 "nbformat": 4,
 "nbformat_minor": 5
}
